{
 "cells": [
  {
   "cell_type": "markdown",
   "id": "1a766ce6",
   "metadata": {},
   "source": [
    "# BUSINESS DECISION RESEARCH PROJECT\n",
    "\n",
    "Run By Python"
   ]
  },
  {
   "cell_type": "markdown",
   "id": "fbbd429c",
   "metadata": {},
   "source": [
    "##### Step 1 (Importing Data) :\n",
    "\n",
    "1. Import The Library\n",
    "2. Import The Dataset \n",
    "3. Show the 5 top data using .head() function\n",
    "4. Show the columns info in dataset using .info() function"
   ]
  },
  {
   "cell_type": "code",
   "execution_count": null,
   "id": "c3404293",
   "metadata": {},
   "outputs": [],
   "source": [
    "import pandas as pd\n",
    "import numpy as np\n",
    "import matplotlib.pyplot as plt\n",
    "import seaborn as sns\n",
    "from sklearn.preprocessing import LabelEncoder\n",
    "from sklearn.model_selection import train_test_split\n",
    "from sklearn.linear_model import LogisticRegression\n",
    "from sklearn.metrics import confusion_matrix\n",
    "from sklearn.metrics import accuracy_score, precision_score, recall_score\n",
    "\n",
    "df = pd.read_csv(\"C:/Users/User/business_decision_research/data_retail.csv\", sep = ';')\n",
    "\n",
    "print('Lima Data Teratas')\n",
    "df.head()"
   ]
  },
  {
   "cell_type": "code",
   "execution_count": 246,
   "id": "80cebaa7",
   "metadata": {},
   "outputs": [
    {
     "name": "stdout",
     "output_type": "stream",
     "text": [
      "Info Dataset\n",
      "<class 'pandas.core.frame.DataFrame'>\n",
      "RangeIndex: 100000 entries, 0 to 99999\n",
      "Data columns (total 8 columns):\n",
      " #   Column                      Non-Null Count   Dtype \n",
      "---  ------                      --------------   ----- \n",
      " 0   no                          100000 non-null  int64 \n",
      " 1   Row_Num                     100000 non-null  int64 \n",
      " 2   Customer_ID                 100000 non-null  int64 \n",
      " 3   Product                     100000 non-null  object\n",
      " 4   First_Transaction           100000 non-null  int64 \n",
      " 5   Last_Transaction            100000 non-null  int64 \n",
      " 6   Average_Transaction_Amount  100000 non-null  int64 \n",
      " 7   Count_Transaction           100000 non-null  int64 \n",
      "dtypes: int64(7), object(1)\n",
      "memory usage: 6.1+ MB\n"
     ]
    }
   ],
   "source": [
    "print('Info Dataset')\n",
    "df.info()"
   ]
  },
  {
   "cell_type": "markdown",
   "id": "f82f0053",
   "metadata": {},
   "source": [
    "##### Step 2 (Data Cleansing):\n",
    "\n",
    "1. Convert two columns (First and Last Transaction) into datetime, to simplify the data calculations for the next steps\n",
    "2. Show the dataset with .head() and .info() to make sure the columns are converted into right format"
   ]
  },
  {
   "cell_type": "code",
   "execution_count": 247,
   "id": "79439112",
   "metadata": {},
   "outputs": [
    {
     "data": {
      "text/html": [
       "<div>\n",
       "<style scoped>\n",
       "    .dataframe tbody tr th:only-of-type {\n",
       "        vertical-align: middle;\n",
       "    }\n",
       "\n",
       "    .dataframe tbody tr th {\n",
       "        vertical-align: top;\n",
       "    }\n",
       "\n",
       "    .dataframe thead th {\n",
       "        text-align: right;\n",
       "    }\n",
       "</style>\n",
       "<table border=\"1\" class=\"dataframe\">\n",
       "  <thead>\n",
       "    <tr style=\"text-align: right;\">\n",
       "      <th></th>\n",
       "      <th>no</th>\n",
       "      <th>Row_Num</th>\n",
       "      <th>Customer_ID</th>\n",
       "      <th>Product</th>\n",
       "      <th>First_Transaction</th>\n",
       "      <th>Last_Transaction</th>\n",
       "      <th>Average_Transaction_Amount</th>\n",
       "      <th>Count_Transaction</th>\n",
       "    </tr>\n",
       "  </thead>\n",
       "  <tbody>\n",
       "    <tr>\n",
       "      <th>0</th>\n",
       "      <td>1</td>\n",
       "      <td>1</td>\n",
       "      <td>29531</td>\n",
       "      <td>Jaket</td>\n",
       "      <td>2016-06-19 02:44:34.396000000</td>\n",
       "      <td>2018-10-05 05:48:02.608000000</td>\n",
       "      <td>1467681</td>\n",
       "      <td>22</td>\n",
       "    </tr>\n",
       "    <tr>\n",
       "      <th>1</th>\n",
       "      <td>2</td>\n",
       "      <td>2</td>\n",
       "      <td>29531</td>\n",
       "      <td>Sepatu</td>\n",
       "      <td>2014-07-23 01:02:11.493999872</td>\n",
       "      <td>2018-12-25 11:02:41.269999872</td>\n",
       "      <td>1269337</td>\n",
       "      <td>41</td>\n",
       "    </tr>\n",
       "    <tr>\n",
       "      <th>2</th>\n",
       "      <td>3</td>\n",
       "      <td>3</td>\n",
       "      <td>141526</td>\n",
       "      <td>Tas</td>\n",
       "      <td>2017-04-28 03:12:27.000000000</td>\n",
       "      <td>2019-01-24 09:40:02.000000000</td>\n",
       "      <td>310915</td>\n",
       "      <td>30</td>\n",
       "    </tr>\n",
       "    <tr>\n",
       "      <th>3</th>\n",
       "      <td>4</td>\n",
       "      <td>4</td>\n",
       "      <td>141526</td>\n",
       "      <td>Jaket</td>\n",
       "      <td>2017-04-28 06:52:52.546999808</td>\n",
       "      <td>2019-01-16 13:00:03.911000064</td>\n",
       "      <td>722632</td>\n",
       "      <td>27</td>\n",
       "    </tr>\n",
       "    <tr>\n",
       "      <th>4</th>\n",
       "      <td>5</td>\n",
       "      <td>5</td>\n",
       "      <td>37545</td>\n",
       "      <td>Sepatu</td>\n",
       "      <td>2015-04-16 10:01:38.530999808</td>\n",
       "      <td>2018-11-22 12:53:41.529999872</td>\n",
       "      <td>1775036</td>\n",
       "      <td>25</td>\n",
       "    </tr>\n",
       "  </tbody>\n",
       "</table>\n",
       "</div>"
      ],
      "text/plain": [
       "   no  Row_Num  Customer_ID Product             First_Transaction  \\\n",
       "0   1        1        29531   Jaket 2016-06-19 02:44:34.396000000   \n",
       "1   2        2        29531  Sepatu 2014-07-23 01:02:11.493999872   \n",
       "2   3        3       141526     Tas 2017-04-28 03:12:27.000000000   \n",
       "3   4        4       141526   Jaket 2017-04-28 06:52:52.546999808   \n",
       "4   5        5        37545  Sepatu 2015-04-16 10:01:38.530999808   \n",
       "\n",
       "               Last_Transaction  Average_Transaction_Amount  Count_Transaction  \n",
       "0 2018-10-05 05:48:02.608000000                     1467681                 22  \n",
       "1 2018-12-25 11:02:41.269999872                     1269337                 41  \n",
       "2 2019-01-24 09:40:02.000000000                      310915                 30  \n",
       "3 2019-01-16 13:00:03.911000064                      722632                 27  \n",
       "4 2018-11-22 12:53:41.529999872                     1775036                 25  "
      ]
     },
     "execution_count": 247,
     "metadata": {},
     "output_type": "execute_result"
    }
   ],
   "source": [
    "df['First_Transaction'] = pd.to_datetime(df['First_Transaction'] / 1000, unit='s', origin='1970-01-01')\n",
    "df['Last_Transaction'] = pd.to_datetime(df['Last_Transaction'] / 1000, unit='s', origin='1970-01-01')\n",
    "\n",
    "df.head()"
   ]
  },
  {
   "cell_type": "code",
   "execution_count": 248,
   "id": "69eb44e1",
   "metadata": {},
   "outputs": [
    {
     "name": "stdout",
     "output_type": "stream",
     "text": [
      "<class 'pandas.core.frame.DataFrame'>\n",
      "RangeIndex: 100000 entries, 0 to 99999\n",
      "Data columns (total 8 columns):\n",
      " #   Column                      Non-Null Count   Dtype         \n",
      "---  ------                      --------------   -----         \n",
      " 0   no                          100000 non-null  int64         \n",
      " 1   Row_Num                     100000 non-null  int64         \n",
      " 2   Customer_ID                 100000 non-null  int64         \n",
      " 3   Product                     100000 non-null  object        \n",
      " 4   First_Transaction           100000 non-null  datetime64[ns]\n",
      " 5   Last_Transaction            100000 non-null  datetime64[ns]\n",
      " 6   Average_Transaction_Amount  100000 non-null  int64         \n",
      " 7   Count_Transaction           100000 non-null  int64         \n",
      "dtypes: datetime64[ns](2), int64(5), object(1)\n",
      "memory usage: 6.1+ MB\n"
     ]
    }
   ],
   "source": [
    "df.info()"
   ]
  },
  {
   "cell_type": "markdown",
   "id": "375fe5e0",
   "metadata": {},
   "source": [
    "##### Step 3 (Deciding Churn Customers)\n",
    "\n",
    "###### What is Churn Customers?\n",
    "\n",
    "Churn Customers is the percentage of customers that stopped using the products or services in several range of time.\n",
    "\n",
    "To check the churn customers, find the last transactions in the columns, then classify them into two conditions (Churn or Not Churn) using is_churn function\n",
    "\n",
    "And the result will displayed in Boolean format (True or False)"
   ]
  },
  {
   "cell_type": "code",
   "execution_count": 249,
   "id": "40835d1c",
   "metadata": {},
   "outputs": [
    {
     "name": "stdout",
     "output_type": "stream",
     "text": [
      "2019-02-01 23:57:57.286000128\n",
      "Lima Data Teratas\n"
     ]
    },
    {
     "data": {
      "text/html": [
       "<div>\n",
       "<style scoped>\n",
       "    .dataframe tbody tr th:only-of-type {\n",
       "        vertical-align: middle;\n",
       "    }\n",
       "\n",
       "    .dataframe tbody tr th {\n",
       "        vertical-align: top;\n",
       "    }\n",
       "\n",
       "    .dataframe thead th {\n",
       "        text-align: right;\n",
       "    }\n",
       "</style>\n",
       "<table border=\"1\" class=\"dataframe\">\n",
       "  <thead>\n",
       "    <tr style=\"text-align: right;\">\n",
       "      <th></th>\n",
       "      <th>no</th>\n",
       "      <th>Row_Num</th>\n",
       "      <th>Customer_ID</th>\n",
       "      <th>Product</th>\n",
       "      <th>First_Transaction</th>\n",
       "      <th>Last_Transaction</th>\n",
       "      <th>Average_Transaction_Amount</th>\n",
       "      <th>Count_Transaction</th>\n",
       "      <th>is_churn</th>\n",
       "    </tr>\n",
       "  </thead>\n",
       "  <tbody>\n",
       "    <tr>\n",
       "      <th>0</th>\n",
       "      <td>1</td>\n",
       "      <td>1</td>\n",
       "      <td>29531</td>\n",
       "      <td>Jaket</td>\n",
       "      <td>2016-06-19 02:44:34.396000000</td>\n",
       "      <td>2018-10-05 05:48:02.608000000</td>\n",
       "      <td>1467681</td>\n",
       "      <td>22</td>\n",
       "      <td>False</td>\n",
       "    </tr>\n",
       "    <tr>\n",
       "      <th>1</th>\n",
       "      <td>2</td>\n",
       "      <td>2</td>\n",
       "      <td>29531</td>\n",
       "      <td>Sepatu</td>\n",
       "      <td>2014-07-23 01:02:11.493999872</td>\n",
       "      <td>2018-12-25 11:02:41.269999872</td>\n",
       "      <td>1269337</td>\n",
       "      <td>41</td>\n",
       "      <td>False</td>\n",
       "    </tr>\n",
       "    <tr>\n",
       "      <th>2</th>\n",
       "      <td>3</td>\n",
       "      <td>3</td>\n",
       "      <td>141526</td>\n",
       "      <td>Tas</td>\n",
       "      <td>2017-04-28 03:12:27.000000000</td>\n",
       "      <td>2019-01-24 09:40:02.000000000</td>\n",
       "      <td>310915</td>\n",
       "      <td>30</td>\n",
       "      <td>False</td>\n",
       "    </tr>\n",
       "    <tr>\n",
       "      <th>3</th>\n",
       "      <td>4</td>\n",
       "      <td>4</td>\n",
       "      <td>141526</td>\n",
       "      <td>Jaket</td>\n",
       "      <td>2017-04-28 06:52:52.546999808</td>\n",
       "      <td>2019-01-16 13:00:03.911000064</td>\n",
       "      <td>722632</td>\n",
       "      <td>27</td>\n",
       "      <td>False</td>\n",
       "    </tr>\n",
       "    <tr>\n",
       "      <th>4</th>\n",
       "      <td>5</td>\n",
       "      <td>5</td>\n",
       "      <td>37545</td>\n",
       "      <td>Sepatu</td>\n",
       "      <td>2015-04-16 10:01:38.530999808</td>\n",
       "      <td>2018-11-22 12:53:41.529999872</td>\n",
       "      <td>1775036</td>\n",
       "      <td>25</td>\n",
       "      <td>False</td>\n",
       "    </tr>\n",
       "  </tbody>\n",
       "</table>\n",
       "</div>"
      ],
      "text/plain": [
       "   no  Row_Num  Customer_ID Product             First_Transaction  \\\n",
       "0   1        1        29531   Jaket 2016-06-19 02:44:34.396000000   \n",
       "1   2        2        29531  Sepatu 2014-07-23 01:02:11.493999872   \n",
       "2   3        3       141526     Tas 2017-04-28 03:12:27.000000000   \n",
       "3   4        4       141526   Jaket 2017-04-28 06:52:52.546999808   \n",
       "4   5        5        37545  Sepatu 2015-04-16 10:01:38.530999808   \n",
       "\n",
       "               Last_Transaction  Average_Transaction_Amount  \\\n",
       "0 2018-10-05 05:48:02.608000000                     1467681   \n",
       "1 2018-12-25 11:02:41.269999872                     1269337   \n",
       "2 2019-01-24 09:40:02.000000000                      310915   \n",
       "3 2019-01-16 13:00:03.911000064                      722632   \n",
       "4 2018-11-22 12:53:41.529999872                     1775036   \n",
       "\n",
       "   Count_Transaction is_churn  \n",
       "0                 22    False  \n",
       "1                 41    False  \n",
       "2                 30    False  \n",
       "3                 27    False  \n",
       "4                 25    False  "
      ]
     },
     "execution_count": 249,
     "metadata": {},
     "output_type": "execute_result"
    }
   ],
   "source": [
    "print(max(df['Last_Transaction']))\n",
    "\n",
    "df.loc[df['Last_Transaction'] <= '2018-08-01', 'is_churn'] = True\n",
    "df.loc[df['Last_Transaction'] > '2018-08-01', 'is_churn'] = False\n",
    "\n",
    "print('Lima Data Teratas')\n",
    "df.head()"
   ]
  },
  {
   "cell_type": "code",
   "execution_count": 250,
   "id": "1a4c4e42",
   "metadata": {},
   "outputs": [
    {
     "data": {
      "text/plain": [
       "0        False\n",
       "1        False\n",
       "2        False\n",
       "3        False\n",
       "4        False\n",
       "         ...  \n",
       "99995     True\n",
       "99996     True\n",
       "99997     True\n",
       "99998     True\n",
       "99999    False\n",
       "Name: is_churn, Length: 100000, dtype: object"
      ]
     },
     "execution_count": 250,
     "metadata": {},
     "output_type": "execute_result"
    }
   ],
   "source": [
    "df['is_churn']"
   ]
  },
  {
   "cell_type": "markdown",
   "id": "87d5893e",
   "metadata": {},
   "source": [
    "To make the data easier to read, we can convert the boolean value into numerical form using Label Encoder.\n",
    "\n",
    "###### What is Label Encoder?\n",
    "\n",
    "Label Encoder is the Python library from 'scikit-learn' that has a function to convert evert categorical or string data into numerical form."
   ]
  },
  {
   "cell_type": "code",
   "execution_count": 251,
   "id": "ab7b8f40",
   "metadata": {},
   "outputs": [
    {
     "name": "stdout",
     "output_type": "stream",
     "text": [
      "[False True]\n",
      "[0 1]\n",
      "\n"
     ]
    },
    {
     "data": {
      "text/plain": [
       "0        0\n",
       "1        0\n",
       "2        0\n",
       "3        0\n",
       "4        0\n",
       "        ..\n",
       "99995    1\n",
       "99996    1\n",
       "99997    1\n",
       "99998    1\n",
       "99999    0\n",
       "Name: is_churn, Length: 100000, dtype: int32"
      ]
     },
     "execution_count": 251,
     "metadata": {},
     "output_type": "execute_result"
    }
   ],
   "source": [
    "LE = LabelEncoder()\n",
    "df['is_churn'] = LE.fit_transform(df['is_churn'])\n",
    "print(LE.classes_)\n",
    "print(np.sort(df['is_churn'].unique()))\n",
    "print('')\n",
    "\n",
    "df['is_churn']"
   ]
  },
  {
   "cell_type": "markdown",
   "id": "e5886be8",
   "metadata": {},
   "source": [
    "The next step in Data Cleansing sections is removing every unnecessary columns. In this case, 'no' and 'Row_Num' didn't give a significant role in this project. So we can remove it using del function."
   ]
  },
  {
   "cell_type": "code",
   "execution_count": 252,
   "id": "d29699ee",
   "metadata": {},
   "outputs": [
    {
     "data": {
      "text/html": [
       "<div>\n",
       "<style scoped>\n",
       "    .dataframe tbody tr th:only-of-type {\n",
       "        vertical-align: middle;\n",
       "    }\n",
       "\n",
       "    .dataframe tbody tr th {\n",
       "        vertical-align: top;\n",
       "    }\n",
       "\n",
       "    .dataframe thead th {\n",
       "        text-align: right;\n",
       "    }\n",
       "</style>\n",
       "<table border=\"1\" class=\"dataframe\">\n",
       "  <thead>\n",
       "    <tr style=\"text-align: right;\">\n",
       "      <th></th>\n",
       "      <th>Customer_ID</th>\n",
       "      <th>Product</th>\n",
       "      <th>First_Transaction</th>\n",
       "      <th>Last_Transaction</th>\n",
       "      <th>Average_Transaction_Amount</th>\n",
       "      <th>Count_Transaction</th>\n",
       "      <th>is_churn</th>\n",
       "    </tr>\n",
       "  </thead>\n",
       "  <tbody>\n",
       "    <tr>\n",
       "      <th>0</th>\n",
       "      <td>29531</td>\n",
       "      <td>Jaket</td>\n",
       "      <td>2016-06-19 02:44:34.396000000</td>\n",
       "      <td>2018-10-05 05:48:02.608000000</td>\n",
       "      <td>1467681</td>\n",
       "      <td>22</td>\n",
       "      <td>0</td>\n",
       "    </tr>\n",
       "    <tr>\n",
       "      <th>1</th>\n",
       "      <td>29531</td>\n",
       "      <td>Sepatu</td>\n",
       "      <td>2014-07-23 01:02:11.493999872</td>\n",
       "      <td>2018-12-25 11:02:41.269999872</td>\n",
       "      <td>1269337</td>\n",
       "      <td>41</td>\n",
       "      <td>0</td>\n",
       "    </tr>\n",
       "    <tr>\n",
       "      <th>2</th>\n",
       "      <td>141526</td>\n",
       "      <td>Tas</td>\n",
       "      <td>2017-04-28 03:12:27.000000000</td>\n",
       "      <td>2019-01-24 09:40:02.000000000</td>\n",
       "      <td>310915</td>\n",
       "      <td>30</td>\n",
       "      <td>0</td>\n",
       "    </tr>\n",
       "    <tr>\n",
       "      <th>3</th>\n",
       "      <td>141526</td>\n",
       "      <td>Jaket</td>\n",
       "      <td>2017-04-28 06:52:52.546999808</td>\n",
       "      <td>2019-01-16 13:00:03.911000064</td>\n",
       "      <td>722632</td>\n",
       "      <td>27</td>\n",
       "      <td>0</td>\n",
       "    </tr>\n",
       "    <tr>\n",
       "      <th>4</th>\n",
       "      <td>37545</td>\n",
       "      <td>Sepatu</td>\n",
       "      <td>2015-04-16 10:01:38.530999808</td>\n",
       "      <td>2018-11-22 12:53:41.529999872</td>\n",
       "      <td>1775036</td>\n",
       "      <td>25</td>\n",
       "      <td>0</td>\n",
       "    </tr>\n",
       "  </tbody>\n",
       "</table>\n",
       "</div>"
      ],
      "text/plain": [
       "   Customer_ID Product             First_Transaction  \\\n",
       "0        29531   Jaket 2016-06-19 02:44:34.396000000   \n",
       "1        29531  Sepatu 2014-07-23 01:02:11.493999872   \n",
       "2       141526     Tas 2017-04-28 03:12:27.000000000   \n",
       "3       141526   Jaket 2017-04-28 06:52:52.546999808   \n",
       "4        37545  Sepatu 2015-04-16 10:01:38.530999808   \n",
       "\n",
       "               Last_Transaction  Average_Transaction_Amount  \\\n",
       "0 2018-10-05 05:48:02.608000000                     1467681   \n",
       "1 2018-12-25 11:02:41.269999872                     1269337   \n",
       "2 2019-01-24 09:40:02.000000000                      310915   \n",
       "3 2019-01-16 13:00:03.911000064                      722632   \n",
       "4 2018-11-22 12:53:41.529999872                     1775036   \n",
       "\n",
       "   Count_Transaction  is_churn  \n",
       "0                 22         0  \n",
       "1                 41         0  \n",
       "2                 30         0  \n",
       "3                 27         0  \n",
       "4                 25         0  "
      ]
     },
     "execution_count": 252,
     "metadata": {},
     "output_type": "execute_result"
    }
   ],
   "source": [
    "df = df.drop(columns=['no','Row_Num'])\n",
    "df.head()"
   ]
  },
  {
   "cell_type": "markdown",
   "id": "89a5a57f",
   "metadata": {},
   "source": [
    "##### Step 4 (Data Visualizations) :\n",
    "\n",
    "For the first visualizations, we decided to show the trend of customer acquisition by year using bar chart. \n",
    "\n",
    "In this case, we take the year from 'First_Transaction' and 'Customer_ID' as the parameters for this chart. As we can see, this bar chart shows us the number of customers that hooked to out products or services per year.\n",
    "\n",
    "All of visualizations is made by matplotlib library, which is the Python Library for Data Visualizations.\n",
    "\n",
    "And for the results, the highest amounts of customer that hooked to our product is from 2017, and the lowest is from 2013."
   ]
  },
  {
   "cell_type": "code",
   "execution_count": 253,
   "id": "99b291d9",
   "metadata": {},
   "outputs": [
    {
     "data": {
      "image/png": "[encoded data removed]",
      "text/plain": [
       "<Figure size 432x288 with 1 Axes>"
      ]
     },
     "metadata": {
      "needs_background": "light"
     },
     "output_type": "display_data"
    }
   ],
   "source": [
    "df['Year_First_Transaction'] = df['First_Transaction'].dt.year\n",
    "df['Year_Last_Transaction'] = df['Last_Transaction'].dt.year\n",
    "\n",
    "df_year = df.groupby(['Year_First_Transaction'])['Customer_ID'].count()\n",
    "df_year.plot(x= 'Year_First_Transaction', y= 'Customer_ID', kind= 'bar', title= 'Graph of Customer Acquisation', color= 'lime')\n",
    "plt.xlabel('Year First Transaction')\n",
    "plt.ylabel('Number of Customers')\n",
    "plt.tight_layout()\n",
    "plt.show()"
   ]
  },
  {
   "cell_type": "markdown",
   "id": "f0b40b6e",
   "metadata": {},
   "source": [
    "For the second visualizations, we using bar chart to count every transactions that occured per year.\n",
    "\n",
    "And for the result, the highest data is from 2017 and 2015."
   ]
  },
  {
   "cell_type": "code",
   "execution_count": 254,
   "id": "35284644",
   "metadata": {},
   "outputs": [
    {
     "data": {
      "image/png": "[encoded data removed]",
      "text/plain": [
       "<Figure size 432x288 with 1 Axes>"
      ]
     },
     "metadata": {
      "needs_background": "light"
     },
     "output_type": "display_data"
    }
   ],
   "source": [
    "df_year = df.groupby(['Year_First_Transaction'])['Count_Transaction'].sum()\n",
    "df_year.plot(x= 'Year_First_Transaction', y= 'Count_Transaction', kind= 'bar', title= 'Graph of Customer Transsaction', color= 'lime')\n",
    "plt.xlabel('Year First Transaction')\n",
    "plt.ylabel('Number of Transactions')\n",
    "plt.tight_layout()\n",
    "plt.show()"
   ]
  },
  {
   "cell_type": "markdown",
   "id": "ae223c0b",
   "metadata": {},
   "source": [
    "Next visualizations, we using pointplot or line chart to visualize our data. This visualizations is produced from seaborn library, which is also used for Data Visualizations.\n",
    "\n",
    "And for the result is for Average Transactions per year, in every product is having some ups and downs in average transaction. But for the Shoes, the number is significantly constant."
   ]
  },
  {
   "cell_type": "code",
   "execution_count": 255,
   "id": "651ed5de",
   "metadata": {},
   "outputs": [
    {
     "data": {
      "image/png": "[encoded data removed]",
      "text/plain": [
       "<Figure size 432x288 with 1 Axes>"
      ]
     },
     "metadata": {
      "needs_background": "light"
     },
     "output_type": "display_data"
    }
   ],
   "source": [
    "sns.pointplot(data = df.groupby(['Product', 'Year_First_Transaction']).mean().reset_index(),\n",
    "             x= 'Year_First_Transaction',\n",
    "             y= 'Average_Transaction_Amount',\n",
    "             hue= 'Product')\n",
    "plt.tight_layout()\n",
    "plt.show()"
   ]
  },
  {
   "cell_type": "markdown",
   "id": "96ac22d3",
   "metadata": {},
   "source": [
    "For the visualizations is customer churn aspects, we using pie plot to visualize the data. \n",
    "\n",
    "First thing we have to do is pivot or count every single data that contains is_churn index. After that, we count the proportion churn by Product, and finally we draw the pie plot for every product.\n",
    "\n",
    "And for the result is every product have a customer churn, which means the consument has stopped using the products or services already and for the range is quite big, which is around 60-68%"
   ]
  },
  {
   "cell_type": "code",
   "execution_count": 256,
   "id": "463be9d4",
   "metadata": {},
   "outputs": [
    {
     "data": {
      "image/png": "[encoded data removed]",
      "text/plain": [
       "<Figure size 720x504 with 4 Axes>"
      ]
     },
     "metadata": {},
     "output_type": "display_data"
    }
   ],
   "source": [
    "df_piv = df.pivot_table(index='is_churn',\n",
    "                       columns='Product',\n",
    "                       values='Customer_ID',\n",
    "                       aggfunc='count',\n",
    "                       fill_value=0)\n",
    "\n",
    "plot_product = df_piv.count().sort_values(ascending=False).head().index\n",
    "\n",
    "df_piv = df_piv.reindex(columns=plot_product)\n",
    "df_piv.plot.pie(subplots=True,\n",
    "               figsize=(10,7),\n",
    "               layout=(-1,2),\n",
    "               autopct='%1.0f%%',\n",
    "               title='Proportion Churn By Product',)\n",
    "plt.tight_layout()\n",
    "plt.show()"
   ]
  },
  {
   "cell_type": "markdown",
   "id": "eed119ea",
   "metadata": {},
   "source": [
    "The next visualization is we try to categorize the amount of transactions that already done by customers. It has a purpose to measure how many times the customer using or purchasing the products or services. We using conditional statements (if-else) to categorize every single transaction group.\n",
    "\n",
    "And for the result is the majority of customer purchase the products only once, and for the lowest is the customer that purchase the product 7-10 times (4th category)"
   ]
  },
  {
   "cell_type": "code",
   "execution_count": 257,
   "id": "46f8054a",
   "metadata": {},
   "outputs": [
    {
     "data": {
      "image/png": "[encoded data removed]",
      "text/plain": [
       "<Figure size 432x288 with 1 Axes>"
      ]
     },
     "metadata": {
      "needs_background": "light"
     },
     "output_type": "display_data"
    }
   ],
   "source": [
    "def func(row):\n",
    "    if row['Count_Transaction'] == 1:\n",
    "        val = '1.1'\n",
    "    elif (row['Count_Transaction'] > 1 and row['Count_Transaction'] <= 3):\n",
    "        val = '2.2 - 3'\n",
    "    elif (row['Count_Transaction'] > 3 and row['Count_Transaction'] <= 6):\n",
    "        val = '3.4 - 6'\n",
    "    elif (row['Count_Transaction'] > 6 and row['Count_Transaction'] <= 10):\n",
    "        val = '4.7 - 10'\n",
    "    else:\n",
    "        val = '5. >10'\n",
    "    return val\n",
    "\n",
    "df['Count_Transaction_Group'] = df.apply(func, axis=1)\n",
    "\n",
    "df_year = df.groupby(['Count_Transaction_Group'])['Customer_ID'].count()\n",
    "df_year.plot(x= 'Count_Transaction_Group', y= 'Customer_ID', kind= 'bar', title= 'Customer Distribution by Count Transaction', color= 'lime')\n",
    "plt.xlabel('Count Transaction Group')\n",
    "plt.ylabel('Number of Customers')\n",
    "plt.tight_layout()\n",
    "plt.show()"
   ]
  },
  {
   "cell_type": "markdown",
   "id": "381568ab",
   "metadata": {},
   "source": [
    "Next, we are going to categorize every average transaction amount. With the same method and visualizations.\n",
    "\n",
    "And for the result is for the highest average transaction is in range of > 1.000.000 until 2.500.000 (5th category)"
   ]
  },
  {
   "cell_type": "code",
   "execution_count": 258,
   "id": "5d7ad5b2",
   "metadata": {},
   "outputs": [
    {
     "data": {
      "image/png": "[encoded data removed]",
      "text/plain": [
       "<Figure size 432x288 with 1 Axes>"
      ]
     },
     "metadata": {
      "needs_background": "light"
     },
     "output_type": "display_data"
    }
   ],
   "source": [
    "plt.clf()\n",
    "\n",
    "def f(row):\n",
    "    if (row['Average_Transaction_Amount'] >= 100000 and row['Average_Transaction_Amount'] <= 200000):\n",
    "        val = '1. 100000 - 250000'\n",
    "    elif (row['Average_Transaction_Amount'] > 250000 and row['Average_Transaction_Amount'] <= 500000):\n",
    "        val = '2. 250000 - 500000'\n",
    "    elif (row['Average_Transaction_Amount'] > 500000 and row['Average_Transaction_Amount'] <= 750000):\n",
    "        val = '3. 500000 - 750000'\n",
    "    elif (row['Average_Transaction_Amount'] > 750000 and row['Average_Transaction_Amount'] <= 1000000):\n",
    "        val = '4. 750000 - 1000000'\n",
    "    elif (row['Average_Transaction_Amount'] > 1000000 and row['Average_Transaction_Amount'] <= 2500000):\n",
    "        val = '5. 1000000 - 2500000'\n",
    "    elif (row['Average_Transaction_Amount'] > 2500000 and row['Average_Transaction_Amount'] <= 5000000):\n",
    "        val = '6. 2500000 - 5000000'\n",
    "    elif (row['Average_Transaction_Amount'] > 5000000 and row['Average_Transaction_Amount'] <= 10000000):\n",
    "        val = '7. 5000000 - 10000000'\n",
    "    else:\n",
    "        val = '8. >10000000'\n",
    "    return val\n",
    "\n",
    "df['Average_Transaction_Amount_Group'] = df.apply(f, axis=1)\n",
    "\n",
    "df_year = df.groupby(['Average_Transaction_Amount_Group'])['Customer_ID'].count()\n",
    "df_year.plot(x= 'Average_Transaction_Amount_Group', y= 'Customer_ID', kind= 'bar', title= 'Customer Distribution by Average Transaction Amount', color= 'lime')\n",
    "plt.xlabel('Average Transaction Amount Group')\n",
    "plt.ylabel('Number of Customers')\n",
    "plt.tight_layout()\n",
    "plt.show()"
   ]
  },
  {
   "cell_type": "markdown",
   "id": "a16aea10",
   "metadata": {},
   "source": [
    "##### Step 5 (Modelling) :\n",
    "\n",
    "The final step of this project is modelling the data using Machine Learning method.\n",
    "\n",
    "The first thing we need to do is deciding the feature columns for the dataset. There are 3 columns that being used for this step. For column Year_Diff, we create it by substract Year_Last_Transaction and Year_First_Transaction.\n",
    "\n",
    "After that, we assign every columns into X and Y. X is for 3 feature columns that already established, and Y is for Churn column."
   ]
  },
  {
   "cell_type": "code",
   "execution_count": 259,
   "id": "0a6dea45",
   "metadata": {},
   "outputs": [
    {
     "name": "stdout",
     "output_type": "stream",
     "text": [
      "Kolom Feature        Average_Transaction_Amount  Count_Transaction  Year_Diff\n",
      "0                         1467681                 22          2\n",
      "1                         1269337                 41          4\n",
      "2                          310915                 30          2\n",
      "3                          722632                 27          2\n",
      "4                         1775036                 25          3\n",
      "...                           ...                ...        ...\n",
      "99995                      298662                  1          0\n",
      "99996                      349556                  1          0\n",
      "99997                      598013                  1          0\n",
      "99998                     1208591                  1          0\n",
      "99999                      486710                  1          0\n",
      "\n",
      "[100000 rows x 3 columns]\n",
      "\n",
      "Kolom Target 0        0\n",
      "1        0\n",
      "2        0\n",
      "3        0\n",
      "4        0\n",
      "        ..\n",
      "99995    1\n",
      "99996    1\n",
      "99997    1\n",
      "99998    1\n",
      "99999    0\n",
      "Name: is_churn, Length: 100000, dtype: int32\n"
     ]
    }
   ],
   "source": [
    "df['Year_Diff'] = df['Year_Last_Transaction'] - df['Year_First_Transaction']\n",
    "\n",
    "feature_columns = ['Average_Transaction_Amount', 'Count_Transaction', 'Year_Diff']\n",
    "\n",
    "X = df[feature_columns]\n",
    "\n",
    "y = df['is_churn']\n",
    "\n",
    "print('Kolom Feature', X)\n",
    "print('\\nKolom Target', y)"
   ]
  },
  {
   "cell_type": "markdown",
   "id": "62ea4972",
   "metadata": {},
   "source": [
    "The next step is split the data that we already assign into training and testing using train_test_split functions from sklearn.\n",
    "\n",
    "For the percentage of the data, training data using 75% part of the entry data, and the rest is belongs to testing data, which is 25%"
   ]
  },
  {
   "cell_type": "code",
   "execution_count": 260,
   "id": "189cc8c8",
   "metadata": {},
   "outputs": [],
   "source": [
    "X_train, X_test, y_train, y_test = train_test_split(X, y, test_size=0.25, random_state=0)"
   ]
  },
  {
   "cell_type": "markdown",
   "id": "1a388201",
   "metadata": {},
   "source": [
    "For the next steps, we create the model for our data using Linear Regression, and then we fit the model, predict and also evaluate the model that we already create using Confusion Matrix.\n",
    "\n",
    "In short, Linear Regression is the method in Supervised Learning to estimate or predict the connection between two different variables (in this case, X and y)."
   ]
  },
  {
   "cell_type": "code",
   "execution_count": 261,
   "id": "0545f733",
   "metadata": {},
   "outputs": [
    {
     "name": "stdout",
     "output_type": "stream",
     "text": [
      "Confusion Matrix:\n",
      " [[    1  8330]\n",
      " [    3 16666]]\n"
     ]
    }
   ],
   "source": [
    "logreg = LogisticRegression()\n",
    "\n",
    "logreg.fit(X_train, y_train)\n",
    "\n",
    "y_pred=logreg.predict(X_test)\n",
    "\n",
    "cnf_matrix = confusion_matrix(y_test, y_pred)\n",
    "print('Confusion Matrix:\\n', cnf_matrix)"
   ]
  },
  {
   "cell_type": "markdown",
   "id": "27de4ba8",
   "metadata": {},
   "source": [
    "And next step is visualize the Confusion Matrix that we already built.\n",
    "\n",
    "As you can see on the chart, there are 4 sections that represent the amount of data in every part.\n",
    "\n",
    "1. In upper left, there is TP (True Positive), which have 1 value only\n",
    "2. In upper right, there is FP (False Positive), which have 8330 values\n",
    "3. In lower left, there is FN (False Negative), which have 3 values\n",
    "4. In lower right, there is TN (True Negative), which have 16666 values"
   ]
  },
  {
   "cell_type": "code",
   "execution_count": 262,
   "id": "8f528351",
   "metadata": {},
   "outputs": [
    {
     "data": {
      "image/png": "[encoded data removed]",
      "text/plain": [
       "<Figure size 432x288 with 2 Axes>"
      ]
     },
     "metadata": {
      "needs_background": "light"
     },
     "output_type": "display_data"
    }
   ],
   "source": [
    "class_names = [0, 1]\n",
    "fig, ax = plt.subplots()\n",
    "\n",
    "tick_marks = np.arange(len(class_names))\n",
    "plt.xticks(tick_marks, class_names)\n",
    "plt.yticks(tick_marks, class_names)\n",
    "\n",
    "sns.heatmap(pd.DataFrame(cnf_matrix), annot=True, cmap='YlGnBu', fmt='g')\n",
    "ax.xaxis.set_label_position('top')\n",
    "plt.title('Confusion Matrix', y=1.1)\n",
    "plt.xlabel('Actual')\n",
    "plt.ylabel('Predicted')\n",
    "plt.tight_layout()\n",
    "plt.show()"
   ]
  },
  {
   "cell_type": "markdown",
   "id": "312773e9",
   "metadata": {},
   "source": [
    "And for the very last part, we able to measure the score for Accuracy, Precision, and Recall.\n",
    "\n",
    "1. Accuracy is one way to assess how often model classifies a data point correctly.\n",
    "2. Precision is the accuracy between the information that being asked by the user and the answer that given by the system.\n",
    "3. Recall is the sucessfull rate by the system to re-obtain some informations.\n",
    "\n",
    "And surprisingly for this project, Accuracy, Precision, and Recall score have the same values, which is about 0.66668"
   ]
  },
  {
   "cell_type": "code",
   "execution_count": 263,
   "id": "436c754c",
   "metadata": {},
   "outputs": [
    {
     "name": "stdout",
     "output_type": "stream",
     "text": [
      "Accuracy : 0.66668\n",
      "Precision : 0.66668\n",
      "Recall : 0.66668\n"
     ]
    }
   ],
   "source": [
    "print('Accuracy :', accuracy_score(y_test, y_pred))\n",
    "print('Precision :', precision_score(y_test, y_pred, average='micro'))\n",
    "print('Recall :', recall_score(y_test, y_pred, average='micro'))"
   ]
  }
 ],
 "metadata": {
  "kernelspec": {
   "display_name": "Python 3 (ipykernel)",
   "language": "python",
   "name": "python3"
  },
  "language_info": {
   "codemirror_mode": {
    "name": "ipython",
    "version": 3
   },
   "file_extension": ".py",
   "mimetype": "text/x-python",
   "name": "python",
   "nbconvert_exporter": "python",
   "pygments_lexer": "ipython3",
   "version": "3.9.12"
  }
 },
 "nbformat": 4,
 "nbformat_minor": 5
}
